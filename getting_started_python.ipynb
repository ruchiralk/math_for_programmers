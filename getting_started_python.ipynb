{
 "cells": [
  {
   "cell_type": "code",
   "execution_count": 1,
   "id": "sublime-pipeline",
   "metadata": {},
   "outputs": [
    {
     "data": {
      "text/plain": [
       "4"
      ]
     },
     "execution_count": 1,
     "metadata": {},
     "output_type": "execute_result"
    }
   ],
   "source": [
    "2 + 2"
   ]
  },
  {
   "cell_type": "code",
   "execution_count": 2,
   "id": "diverse-letters",
   "metadata": {},
   "outputs": [
    {
     "data": {
      "text/plain": [
       "0.5670000000000002"
      ]
     },
     "execution_count": 2,
     "metadata": {},
     "output_type": "execute_result"
    }
   ],
   "source": [
    "4.567 % 1"
   ]
  },
  {
   "cell_type": "code",
   "execution_count": 3,
   "id": "promising-obligation",
   "metadata": {},
   "outputs": [],
   "source": [
    "# The math module"
   ]
  },
  {
   "cell_type": "code",
   "execution_count": 4,
   "id": "inside-lucas",
   "metadata": {},
   "outputs": [],
   "source": [
    "from math import pi"
   ]
  },
  {
   "cell_type": "code",
   "execution_count": 5,
   "id": "outstanding-discharge",
   "metadata": {},
   "outputs": [
    {
     "data": {
      "text/plain": [
       "3.141592653589793"
      ]
     },
     "execution_count": 5,
     "metadata": {},
     "output_type": "execute_result"
    }
   ],
   "source": [
    "pi"
   ]
  },
  {
   "cell_type": "code",
   "execution_count": 6,
   "id": "imported-discrimination",
   "metadata": {},
   "outputs": [],
   "source": [
    "import math"
   ]
  },
  {
   "cell_type": "code",
   "execution_count": 7,
   "id": "sharp-fifty",
   "metadata": {},
   "outputs": [
    {
     "data": {
      "text/plain": [
       "5.0"
      ]
     },
     "execution_count": 7,
     "metadata": {},
     "output_type": "execute_result"
    }
   ],
   "source": [
    "math.sqrt(25)"
   ]
  },
  {
   "cell_type": "code",
   "execution_count": 8,
   "id": "unexpected-copper",
   "metadata": {},
   "outputs": [
    {
     "data": {
      "text/plain": [
       "1.0"
      ]
     },
     "execution_count": 8,
     "metadata": {},
     "output_type": "execute_result"
    }
   ],
   "source": [
    "math.sin(pi/2)"
   ]
  },
  {
   "cell_type": "code",
   "execution_count": 9,
   "id": "positive-belarus",
   "metadata": {},
   "outputs": [
    {
     "data": {
      "text/plain": [
       "6.123233995736766e-17"
      ]
     },
     "execution_count": 9,
     "metadata": {},
     "output_type": "execute_result"
    }
   ],
   "source": [
    "math.cos(pi/2)"
   ]
  },
  {
   "cell_type": "code",
   "execution_count": 10,
   "id": "focal-leonard",
   "metadata": {},
   "outputs": [
    {
     "data": {
      "text/plain": [
       "7.38905609893065"
      ]
     },
     "execution_count": 10,
     "metadata": {},
     "output_type": "execute_result"
    }
   ],
   "source": [
    "math.exp(2)"
   ]
  },
  {
   "cell_type": "code",
   "execution_count": 11,
   "id": "little-timing",
   "metadata": {},
   "outputs": [
    {
     "data": {
      "text/plain": [
       "0.6931471805599453"
      ]
     },
     "execution_count": 11,
     "metadata": {},
     "output_type": "execute_result"
    }
   ],
   "source": [
    "math.log(2)"
   ]
  },
  {
   "cell_type": "code",
   "execution_count": 12,
   "id": "inclusive-incident",
   "metadata": {},
   "outputs": [
    {
     "data": {
      "text/plain": [
       "2.718281828459045"
      ]
     },
     "execution_count": 12,
     "metadata": {},
     "output_type": "execute_result"
    }
   ],
   "source": [
    "math.e"
   ]
  },
  {
   "cell_type": "code",
   "execution_count": null,
   "id": "southern-arthur",
   "metadata": {},
   "outputs": [],
   "source": []
  },
  {
   "cell_type": "code",
   "execution_count": 13,
   "id": "cellular-climb",
   "metadata": {},
   "outputs": [],
   "source": [
    "# Python random"
   ]
  },
  {
   "cell_type": "code",
   "execution_count": 14,
   "id": "composite-bobby",
   "metadata": {},
   "outputs": [],
   "source": [
    "import random"
   ]
  },
  {
   "cell_type": "code",
   "execution_count": 15,
   "id": "hispanic-compact",
   "metadata": {},
   "outputs": [
    {
     "data": {
      "text/plain": [
       "1"
      ]
     },
     "execution_count": 15,
     "metadata": {},
     "output_type": "execute_result"
    }
   ],
   "source": [
    "random.randint(0,10) # 0 and 10 also possible"
   ]
  },
  {
   "cell_type": "code",
   "execution_count": 16,
   "id": "sitting-copper",
   "metadata": {},
   "outputs": [],
   "source": [
    "# uniform means no subrange is more likely than any other"
   ]
  },
  {
   "cell_type": "code",
   "execution_count": 17,
   "id": "electrical-intelligence",
   "metadata": {},
   "outputs": [
    {
     "data": {
      "text/plain": [
       "3.7088351679138074"
      ]
     },
     "execution_count": 17,
     "metadata": {},
     "output_type": "execute_result"
    }
   ],
   "source": [
    "random.uniform(3.5, 4.5)"
   ]
  },
  {
   "cell_type": "code",
   "execution_count": null,
   "id": "severe-steel",
   "metadata": {},
   "outputs": [],
   "source": []
  },
  {
   "cell_type": "code",
   "execution_count": 18,
   "id": "private-browser",
   "metadata": {},
   "outputs": [],
   "source": [
    "# Collections"
   ]
  },
  {
   "cell_type": "code",
   "execution_count": 19,
   "id": "genetic-programming",
   "metadata": {},
   "outputs": [],
   "source": [
    "months = ['Jan', 'Feb', 'Mar', 'Aprial', 'May', 'August']"
   ]
  },
  {
   "cell_type": "code",
   "execution_count": 20,
   "id": "atmospheric-shuttle",
   "metadata": {},
   "outputs": [
    {
     "data": {
      "text/plain": [
       "['Jan', 'Feb', 'Mar', 'Aprial', 'May', 'August']"
      ]
     },
     "execution_count": 20,
     "metadata": {},
     "output_type": "execute_result"
    }
   ],
   "source": [
    "months"
   ]
  },
  {
   "cell_type": "code",
   "execution_count": 21,
   "id": "mechanical-appliance",
   "metadata": {},
   "outputs": [
    {
     "data": {
      "text/plain": [
       "'August'"
      ]
     },
     "execution_count": 21,
     "metadata": {},
     "output_type": "execute_result"
    }
   ],
   "source": [
    "months[-1]"
   ]
  },
  {
   "cell_type": "code",
   "execution_count": 22,
   "id": "accurate-above",
   "metadata": {},
   "outputs": [
    {
     "data": {
      "text/plain": [
       "['Jan', 'Feb']"
      ]
     },
     "execution_count": 22,
     "metadata": {},
     "output_type": "execute_result"
    }
   ],
   "source": [
    "months[0:2]"
   ]
  },
  {
   "cell_type": "code",
   "execution_count": 23,
   "id": "attended-adult",
   "metadata": {},
   "outputs": [
    {
     "data": {
      "text/plain": [
       "6"
      ]
     },
     "execution_count": 23,
     "metadata": {},
     "output_type": "execute_result"
    }
   ],
   "source": [
    "len(months)"
   ]
  },
  {
   "cell_type": "code",
   "execution_count": 24,
   "id": "center-harvest",
   "metadata": {},
   "outputs": [
    {
     "data": {
      "text/plain": [
       "['Mar', 'Aprial', 'May', 'August']"
      ]
     },
     "execution_count": 24,
     "metadata": {},
     "output_type": "execute_result"
    }
   ],
   "source": [
    "months[2:]"
   ]
  },
  {
   "cell_type": "code",
   "execution_count": 25,
   "id": "incident-contract",
   "metadata": {},
   "outputs": [],
   "source": [
    "month_year = [x + ' 2021' for x in months]"
   ]
  },
  {
   "cell_type": "code",
   "execution_count": 26,
   "id": "scientific-backing",
   "metadata": {},
   "outputs": [
    {
     "data": {
      "text/plain": [
       "['Jan 2021', 'Feb 2021', 'Mar 2021', 'Aprial 2021', 'May 2021', 'August 2021']"
      ]
     },
     "execution_count": 26,
     "metadata": {},
     "output_type": "execute_result"
    }
   ],
   "source": [
    "month_year"
   ]
  },
  {
   "cell_type": "code",
   "execution_count": 51,
   "id": "actual-columbia",
   "metadata": {},
   "outputs": [
    {
     "data": {
      "text/plain": [
       "[0, 1, 2, 3, 4, 5, 6, 7, 8, 9]"
      ]
     },
     "execution_count": 51,
     "metadata": {},
     "output_type": "execute_result"
    }
   ],
   "source": [
    "# convert range in to a list\n",
    "list(range(0,10))"
   ]
  },
  {
   "cell_type": "code",
   "execution_count": 28,
   "id": "tight-confusion",
   "metadata": {},
   "outputs": [
    {
     "data": {
      "text/plain": [
       "[0, 3, 6, 9, 12, 15, 18]"
      ]
     },
     "execution_count": 28,
     "metadata": {},
     "output_type": "execute_result"
    }
   ],
   "source": [
    "list(range(0,20,3))"
   ]
  },
  {
   "cell_type": "code",
   "execution_count": null,
   "id": "banner-copyright",
   "metadata": {},
   "outputs": [],
   "source": []
  },
  {
   "cell_type": "code",
   "execution_count": 29,
   "id": "medical-lodge",
   "metadata": {},
   "outputs": [
    {
     "name": "stdout",
     "output_type": "stream",
     "text": [
      "[(1, 'a'), (2, 'c'), (3, 'c')]\n"
     ]
    }
   ],
   "source": [
    "# zip function takes in two iterables and create pairs with corresponding entries\n",
    "z = zip([1,2,3],[\"a\",\"c\",\"c\"])\n",
    "# z is a class convert it to a list\n",
    "print(list(z))"
   ]
  },
  {
   "cell_type": "code",
   "execution_count": null,
   "id": "entire-measure",
   "metadata": {},
   "outputs": [],
   "source": []
  },
  {
   "cell_type": "code",
   "execution_count": 30,
   "id": "heated-skill",
   "metadata": {},
   "outputs": [],
   "source": [
    "# Generators\n",
    "# Create iterable that do not store all the values in memory"
   ]
  },
  {
   "cell_type": "code",
   "execution_count": 31,
   "id": "iraqi-current",
   "metadata": {},
   "outputs": [],
   "source": [
    "# define function ending with yield instead of return\n",
    "# generators can return many values where functions can only return once"
   ]
  },
  {
   "cell_type": "code",
   "execution_count": 32,
   "id": "enclosed-tablet",
   "metadata": {},
   "outputs": [],
   "source": [
    "def count():\n",
    "    x = 0\n",
    "    while True:\n",
    "        x = x + 1\n",
    "        yield x # this returns a generater object which can be iterated over"
   ]
  },
  {
   "cell_type": "code",
   "execution_count": 33,
   "id": "proud-holmes",
   "metadata": {},
   "outputs": [
    {
     "name": "stdout",
     "output_type": "stream",
     "text": [
      "1\n",
      "2\n",
      "3\n"
     ]
    }
   ],
   "source": [
    "for x in count():\n",
    "    if x < 4:\n",
    "        print(x)\n",
    "    else:\n",
    "        break"
   ]
  },
  {
   "cell_type": "code",
   "execution_count": 34,
   "id": "heavy-imperial",
   "metadata": {},
   "outputs": [
    {
     "name": "stdout",
     "output_type": "stream",
     "text": [
      "<generator object <genexpr> at 0x7fb7d30b35f0>\n"
     ]
    }
   ],
   "source": [
    "# we can create generator comprehension py wrapping using parentheses insead of breackets\n",
    "result = (x*x for x in range(0,10))\n",
    "print(result)"
   ]
  },
  {
   "cell_type": "code",
   "execution_count": 35,
   "id": "covered-rider",
   "metadata": {},
   "outputs": [
    {
     "name": "stdout",
     "output_type": "stream",
     "text": [
      "[0, 1, 4, 9, 16, 25, 36, 49, 64, 81]\n"
     ]
    }
   ],
   "source": [
    "# when the generator is finite you can convert it to a list using list() function\n",
    "print(list(result))"
   ]
  },
  {
   "cell_type": "code",
   "execution_count": 36,
   "id": "weighted-negotiation",
   "metadata": {},
   "outputs": [
    {
     "name": "stdout",
     "output_type": "stream",
     "text": [
      "(0, 1, 2, 3, 4, 5, 6, 7)\n"
     ]
    }
   ],
   "source": [
    "# Tuples are the default collection in python\n",
    "numbers = 0,1,2,3,4,5,6,7\n",
    "print(numbers)"
   ]
  },
  {
   "cell_type": "code",
   "execution_count": 37,
   "id": "nasty-restaurant",
   "metadata": {},
   "outputs": [
    {
     "name": "stdout",
     "output_type": "stream",
     "text": [
      "(1, 2)\n"
     ]
    }
   ],
   "source": [
    "# If you just return two or more values from a function, by default it will be interpretered as a tuple\n",
    "def tupe_return():\n",
    "    return 1,2\n",
    "print(tupe_return())"
   ]
  },
  {
   "cell_type": "code",
   "execution_count": null,
   "id": "arctic-thickness",
   "metadata": {},
   "outputs": [],
   "source": []
  },
  {
   "cell_type": "code",
   "execution_count": 38,
   "id": "isolated-bennett",
   "metadata": {},
   "outputs": [
    {
     "name": "stdout",
     "output_type": "stream",
     "text": [
      "{1, 2, 3, 4, 5, 6, 7}\n",
      "[1, 2, 3, 4, 5, 6, 7]\n"
     ]
    }
   ],
   "source": [
    "# Sets\n",
    "# every entry must be distinct\n",
    "# turning a list in to a set is a quick way to guarantee it has no duplicates\n",
    "# the set function convert, iterable in to a set\n",
    "dups = [1,2,2,3,3,3,4,5,5,5,5,6,7,7]\n",
    "print(set(dups))\n",
    "print(list(set(dups)))"
   ]
  },
  {
   "cell_type": "code",
   "execution_count": 39,
   "id": "senior-frost",
   "metadata": {},
   "outputs": [
    {
     "data": {
      "text/plain": [
       "True"
      ]
     },
     "execution_count": 39,
     "metadata": {},
     "output_type": "execute_result"
    }
   ],
   "source": [
    "# sets are equal if they has same entries regardless of order\n",
    "set([1,2,3]) == {3,2,1}"
   ]
  },
  {
   "cell_type": "code",
   "execution_count": null,
   "id": "interracial-influence",
   "metadata": {},
   "outputs": [],
   "source": []
  },
  {
   "cell_type": "code",
   "execution_count": 40,
   "id": "fundamental-camera",
   "metadata": {},
   "outputs": [],
   "source": [
    "# NumPy\n",
    "import numpy as np"
   ]
  },
  {
   "cell_type": "code",
   "execution_count": 41,
   "id": "included-malpractice",
   "metadata": {},
   "outputs": [
    {
     "data": {
      "text/plain": [
       "array([1, 2, 3, 4, 5, 6])"
      ]
     },
     "execution_count": 41,
     "metadata": {},
     "output_type": "execute_result"
    }
   ],
   "source": [
    "# to create a numpy array, just pass a iterable to np.array function\n",
    "np.array([1,2,3,4,5,6])"
   ]
  },
  {
   "cell_type": "code",
   "execution_count": 42,
   "id": "veterinary-blues",
   "metadata": {},
   "outputs": [
    {
     "data": {
      "text/plain": [
       "array([0, 1, 2, 3, 4, 5, 6, 7, 8, 9])"
      ]
     },
     "execution_count": 42,
     "metadata": {},
     "output_type": "execute_result"
    }
   ],
   "source": [
    "# use arange function\n",
    "np.arange(0,10)"
   ]
  },
  {
   "cell_type": "code",
   "execution_count": 43,
   "id": "faced-favor",
   "metadata": {},
   "outputs": [
    {
     "data": {
      "text/plain": [
       "array([0. , 0.5, 1. , 1.5, 2. , 2.5, 3. , 3.5])"
      ]
     },
     "execution_count": 43,
     "metadata": {},
     "output_type": "execute_result"
    }
   ],
   "source": [
    "# third agument is value to count by, which can be a float\n",
    "np.arange(0,4,0.5)"
   ]
  },
  {
   "cell_type": "code",
   "execution_count": null,
   "id": "general-feeling",
   "metadata": {},
   "outputs": [],
   "source": []
  },
  {
   "cell_type": "code",
   "execution_count": 44,
   "id": "popular-estimate",
   "metadata": {},
   "outputs": [
    {
     "name": "stdout",
     "output_type": "stream",
     "text": [
      "Melba\n"
     ]
    }
   ],
   "source": [
    "# Dictionaries\n",
    "dog = {\n",
    "    \"name\" : \"Melba\",\n",
    "    \"age\" : 2\n",
    "}\n",
    "print(dog[\"name\"])"
   ]
  },
  {
   "cell_type": "code",
   "execution_count": 45,
   "id": "flush-ethernet",
   "metadata": {},
   "outputs": [
    {
     "name": "stdout",
     "output_type": "stream",
     "text": [
      "[('name', 'Melba'), ('age', 2)]\n"
     ]
    }
   ],
   "source": [
    "# get all values from dictionary as a key value pair using items()\n",
    "print(list(dog.items()))"
   ]
  },
  {
   "cell_type": "code",
   "execution_count": null,
   "id": "worth-object",
   "metadata": {},
   "outputs": [],
   "source": []
  },
  {
   "cell_type": "code",
   "execution_count": 46,
   "id": "integrated-dylan",
   "metadata": {},
   "outputs": [],
   "source": [
    "# Useful collection functions"
   ]
  },
  {
   "cell_type": "code",
   "execution_count": 47,
   "id": "unsigned-parker",
   "metadata": {},
   "outputs": [
    {
     "data": {
      "text/plain": [
       "6"
      ]
     },
     "execution_count": 47,
     "metadata": {},
     "output_type": "execute_result"
    }
   ],
   "source": [
    "# sum function adds up a iterable\n",
    "sum((1,2,3))"
   ]
  },
  {
   "cell_type": "code",
   "execution_count": 48,
   "id": "increasing-syndicate",
   "metadata": {},
   "outputs": [],
   "source": [
    "# min and max returns smallest and larget values from iterable"
   ]
  },
  {
   "cell_type": "code",
   "execution_count": 49,
   "id": "efficient-young",
   "metadata": {},
   "outputs": [
    {
     "data": {
      "text/plain": [
       "[2, 2, 3, 4, 5, 8]"
      ]
     },
     "execution_count": 49,
     "metadata": {},
     "output_type": "execute_result"
    }
   ],
   "source": [
    "# sorted returns a list that sorted copy of a iterable\n",
    "sorted([5,2,3,8,2,4])"
   ]
  },
  {
   "cell_type": "code",
   "execution_count": 50,
   "id": "african-recycling",
   "metadata": {},
   "outputs": [
    {
     "name": "stdout",
     "output_type": "stream",
     "text": [
      "<list_reverseiterator object at 0x7fb7d3887280>\n"
     ]
    }
   ],
   "source": [
    "# reverse function returns a iterable which has the order reveresed, this is not a list\n",
    "print(reversed([1,2,3,4,5,6]))"
   ]
  },
  {
   "cell_type": "code",
   "execution_count": null,
   "id": "specified-macro",
   "metadata": {},
   "outputs": [],
   "source": []
  },
  {
   "cell_type": "code",
   "execution_count": null,
   "id": "documented-chest",
   "metadata": {},
   "outputs": [],
   "source": []
  },
  {
   "cell_type": "code",
   "execution_count": 52,
   "id": "imperial-kennedy",
   "metadata": {},
   "outputs": [],
   "source": [
    "# Functions"
   ]
  },
  {
   "cell_type": "code",
   "execution_count": 53,
   "id": "universal-groove",
   "metadata": {},
   "outputs": [],
   "source": [
    "# define function that accept variable number of arguments as a tuple"
   ]
  },
  {
   "cell_type": "code",
   "execution_count": 55,
   "id": "centered-stock",
   "metadata": {},
   "outputs": [],
   "source": [
    "def variable_fun(*args):\n",
    "    for arg in args:\n",
    "        print(arg)"
   ]
  },
  {
   "cell_type": "code",
   "execution_count": 56,
   "id": "split-douglas",
   "metadata": {},
   "outputs": [
    {
     "name": "stdout",
     "output_type": "stream",
     "text": [
      "5\n",
      "6\n",
      "7\n",
      "8\n"
     ]
    }
   ],
   "source": [
    "variable_fun(5,6,7,8)"
   ]
  },
  {
   "cell_type": "code",
   "execution_count": null,
   "id": "developed-environment",
   "metadata": {},
   "outputs": [],
   "source": []
  },
  {
   "cell_type": "code",
   "execution_count": 58,
   "id": "eleven-shakespeare",
   "metadata": {},
   "outputs": [],
   "source": [
    "# * operator can be used to convert a list in to a arguments for a function\n",
    "argument_list = ['a','b','c','d']"
   ]
  },
  {
   "cell_type": "code",
   "execution_count": 60,
   "id": "balanced-waters",
   "metadata": {},
   "outputs": [
    {
     "name": "stdout",
     "output_type": "stream",
     "text": [
      "a\n",
      "b\n",
      "c\n",
      "d\n"
     ]
    }
   ],
   "source": [
    "variable_fun(*argument_list)"
   ]
  },
  {
   "cell_type": "code",
   "execution_count": null,
   "id": "rubber-rebate",
   "metadata": {},
   "outputs": [],
   "source": []
  },
  {
   "cell_type": "code",
   "execution_count": 61,
   "id": "synthetic-trigger",
   "metadata": {},
   "outputs": [],
   "source": [
    "# optional keyword arguments"
   ]
  },
  {
   "cell_type": "code",
   "execution_count": 62,
   "id": "specific-alfred",
   "metadata": {},
   "outputs": [],
   "source": [
    "def birthday(name='friend', age=None):\n",
    "    s = \"Happy birthday, %s\" % name\n",
    "    if age:\n",
    "        s += \", you're %d years old\" % age\n",
    "    return s + \"!\""
   ]
  },
  {
   "cell_type": "code",
   "execution_count": 63,
   "id": "overhead-compiler",
   "metadata": {},
   "outputs": [
    {
     "data": {
      "text/plain": [
       "\"Happy birthday, Ruchira, you're 33 years old!\""
      ]
     },
     "execution_count": 63,
     "metadata": {},
     "output_type": "execute_result"
    }
   ],
   "source": [
    "birthday(name='Ruchira', age=33)"
   ]
  },
  {
   "cell_type": "code",
   "execution_count": 64,
   "id": "burning-bench",
   "metadata": {},
   "outputs": [],
   "source": [
    "# you can pass a dictionary keyword argument using ** instead of passing seperate arguments\n",
    "args = {'name': 'Ruchira Munidasa', 'age': 35}"
   ]
  },
  {
   "cell_type": "code",
   "execution_count": 65,
   "id": "upset-mathematics",
   "metadata": {},
   "outputs": [
    {
     "data": {
      "text/plain": [
       "\"Happy birthday, Ruchira Munidasa, you're 35 years old!\""
      ]
     },
     "execution_count": 65,
     "metadata": {},
     "output_type": "execute_result"
    }
   ],
   "source": [
    "birthday(**args)"
   ]
  },
  {
   "cell_type": "code",
   "execution_count": null,
   "id": "expected-headset",
   "metadata": {},
   "outputs": [],
   "source": []
  },
  {
   "cell_type": "code",
   "execution_count": 66,
   "id": "running-worry",
   "metadata": {},
   "outputs": [],
   "source": [
    "# Functions as data"
   ]
  },
  {
   "cell_type": "code",
   "execution_count": 67,
   "id": "better-macedonia",
   "metadata": {},
   "outputs": [],
   "source": [
    "# you can pass functions as variables"
   ]
  },
  {
   "cell_type": "code",
   "execution_count": 70,
   "id": "exposed-musical",
   "metadata": {},
   "outputs": [],
   "source": [
    "def square(x):\n",
    "    return x*x"
   ]
  },
  {
   "cell_type": "code",
   "execution_count": 71,
   "id": "better-justice",
   "metadata": {},
   "outputs": [
    {
     "data": {
      "text/plain": [
       "[0, 1, 4, 9]"
      ]
     },
     "execution_count": 71,
     "metadata": {},
     "output_type": "execute_result"
    }
   ],
   "source": [
    "list(map(square, range(4)))"
   ]
  },
  {
   "cell_type": "code",
   "execution_count": 72,
   "id": "controlled-christian",
   "metadata": {},
   "outputs": [],
   "source": [
    "# functions can return functions"
   ]
  },
  {
   "cell_type": "code",
   "execution_count": 77,
   "id": "comic-albert",
   "metadata": {},
   "outputs": [],
   "source": [
    "def make_power_function(power):\n",
    "    def power_function(x): # this is a closure cause it remebers the outside variables\n",
    "        return x ** power\n",
    "    return power_function"
   ]
  },
  {
   "cell_type": "code",
   "execution_count": 74,
   "id": "casual-acceptance",
   "metadata": {},
   "outputs": [],
   "source": [
    "cube_function = make_power_function(3)"
   ]
  },
  {
   "cell_type": "code",
   "execution_count": 76,
   "id": "rational-brake",
   "metadata": {},
   "outputs": [
    {
     "data": {
      "text/plain": [
       "8"
      ]
     },
     "execution_count": 76,
     "metadata": {},
     "output_type": "execute_result"
    }
   ],
   "source": [
    "cube_function(2)"
   ]
  },
  {
   "cell_type": "code",
   "execution_count": null,
   "id": "received-claim",
   "metadata": {},
   "outputs": [],
   "source": []
  },
  {
   "cell_type": "code",
   "execution_count": 78,
   "id": "corporate-intensity",
   "metadata": {},
   "outputs": [],
   "source": [
    "# Lambdas: Anonymous functions"
   ]
  },
  {
   "cell_type": "code",
   "execution_count": 81,
   "id": "amazing-airline",
   "metadata": {},
   "outputs": [
    {
     "data": {
      "text/plain": [
       "9"
      ]
     },
     "execution_count": 81,
     "metadata": {},
     "output_type": "execute_result"
    }
   ],
   "source": [
    "(lambda x: x + 2)(7)"
   ]
  },
  {
   "cell_type": "code",
   "execution_count": 82,
   "id": "concerned-supervision",
   "metadata": {},
   "outputs": [],
   "source": [
    "# lambda should be used in situations such as functions that return or take other functions"
   ]
  },
  {
   "cell_type": "code",
   "execution_count": null,
   "id": "black-enterprise",
   "metadata": {},
   "outputs": [],
   "source": []
  },
  {
   "cell_type": "code",
   "execution_count": 83,
   "id": "upper-fashion",
   "metadata": {},
   "outputs": [],
   "source": [
    "# applying functions to numpy arrays"
   ]
  },
  {
   "cell_type": "code",
   "execution_count": 84,
   "id": "continuous-cleanup",
   "metadata": {},
   "outputs": [],
   "source": [
    "# to apply custom function to every entry in numpy use np.vectorize function"
   ]
  },
  {
   "cell_type": "code",
   "execution_count": 85,
   "id": "accepting-donna",
   "metadata": {},
   "outputs": [],
   "source": [
    "def cube_function(x):\n",
    "    return x ** 3"
   ]
  },
  {
   "cell_type": "code",
   "execution_count": 87,
   "id": "exact-senator",
   "metadata": {},
   "outputs": [
    {
     "data": {
      "text/plain": [
       "array([ 0,  1,  8, 27])"
      ]
     },
     "execution_count": 87,
     "metadata": {},
     "output_type": "execute_result"
    }
   ],
   "source": [
    "np_cube_function(np.arange(0,4))"
   ]
  },
  {
   "cell_type": "code",
   "execution_count": null,
   "id": "polar-alfred",
   "metadata": {},
   "outputs": [],
   "source": []
  }
 ],
 "metadata": {
  "kernelspec": {
   "display_name": "Python 3",
   "language": "python",
   "name": "python3"
  },
  "language_info": {
   "codemirror_mode": {
    "name": "ipython",
    "version": 3
   },
   "file_extension": ".py",
   "mimetype": "text/x-python",
   "name": "python",
   "nbconvert_exporter": "python",
   "pygments_lexer": "ipython3",
   "version": "3.8.5"
  }
 },
 "nbformat": 4,
 "nbformat_minor": 5
}
