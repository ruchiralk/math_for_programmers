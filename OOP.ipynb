{
 "cells": [
  {
   "cell_type": "code",
   "execution_count": 1,
   "id": "parental-decrease",
   "metadata": {},
   "outputs": [],
   "source": [
    "# define a class"
   ]
  },
  {
   "cell_type": "code",
   "execution_count": 2,
   "id": "residential-latin",
   "metadata": {},
   "outputs": [],
   "source": [
    "# constructor, first parameter is the object we are creating\n",
    "class Rectangle():\n",
    "    def __init__(self,w,h):\n",
    "        self.width = w\n",
    "        self.height = h"
   ]
  },
  {
   "cell_type": "code",
   "execution_count": null,
   "id": "federal-figure",
   "metadata": {},
   "outputs": [],
   "source": []
  },
  {
   "cell_type": "code",
   "execution_count": 3,
   "id": "isolated-statement",
   "metadata": {},
   "outputs": [
    {
     "data": {
      "text/plain": [
       "__main__.Rectangle"
      ]
     },
     "execution_count": 3,
     "metadata": {},
     "output_type": "execute_result"
    }
   ],
   "source": [
    "# you don't have to pass a value to self when creating\n",
    "rectangle = Rectangle(3,4)\n",
    "type(rectangle)"
   ]
  },
  {
   "cell_type": "code",
   "execution_count": null,
   "id": "developed-nudist",
   "metadata": {},
   "outputs": [],
   "source": []
  },
  {
   "cell_type": "code",
   "execution_count": 4,
   "id": "noted-orleans",
   "metadata": {},
   "outputs": [],
   "source": [
    "# any method must take a self parameter which represent the current instance"
   ]
  },
  {
   "cell_type": "code",
   "execution_count": 7,
   "id": "major-scottish",
   "metadata": {},
   "outputs": [],
   "source": [
    "def area(self):\n",
    "    return self.width * self.height"
   ]
  },
  {
   "cell_type": "code",
   "execution_count": null,
   "id": "synthetic-winner",
   "metadata": {},
   "outputs": [],
   "source": []
  },
  {
   "cell_type": "code",
   "execution_count": 8,
   "id": "fifth-murray",
   "metadata": {},
   "outputs": [],
   "source": [
    "# Special Methods"
   ]
  },
  {
   "cell_type": "code",
   "execution_count": 9,
   "id": "friendly-consumption",
   "metadata": {},
   "outputs": [],
   "source": [
    "# __dict__ method available in every class which returns dictionary of all the properties of the instance"
   ]
  },
  {
   "cell_type": "code",
   "execution_count": 10,
   "id": "later-massachusetts",
   "metadata": {},
   "outputs": [
    {
     "name": "stdout",
     "output_type": "stream",
     "text": [
      "{'width': 3, 'height': 4}\n"
     ]
    }
   ],
   "source": [
    "print(rectangle.__dict__)"
   ]
  },
  {
   "cell_type": "code",
   "execution_count": null,
   "id": "cubic-above",
   "metadata": {},
   "outputs": [],
   "source": []
  },
  {
   "cell_type": "code",
   "execution_count": 11,
   "id": "requested-service",
   "metadata": {},
   "outputs": [],
   "source": [
    "# __eq__ is the equality operator, decide the behaviour of the == operator. two instances are not equal by default\n",
    "# even though they contian same properties"
   ]
  },
  {
   "cell_type": "code",
   "execution_count": 12,
   "id": "hungarian-counter",
   "metadata": {},
   "outputs": [],
   "source": [
    "def __eq__(self, other):\n",
    "    return self.width == other.wdith and self.height == other.height"
   ]
  },
  {
   "cell_type": "code",
   "execution_count": null,
   "id": "demographic-hudson",
   "metadata": {},
   "outputs": [],
   "source": []
  },
  {
   "cell_type": "code",
   "execution_count": 13,
   "id": "technological-albany",
   "metadata": {},
   "outputs": [],
   "source": [
    "# __repr__ represent the default string representation of a object"
   ]
  },
  {
   "cell_type": "code",
   "execution_count": 14,
   "id": "adjusted-survey",
   "metadata": {},
   "outputs": [],
   "source": [
    "def __repr__(self):\n",
    "    return 'Rectangle (%r by %r)' % (self.width, self.height)"
   ]
  },
  {
   "cell_type": "code",
   "execution_count": null,
   "id": "mexican-naples",
   "metadata": {},
   "outputs": [],
   "source": []
  },
  {
   "cell_type": "code",
   "execution_count": 15,
   "id": "signal-borough",
   "metadata": {},
   "outputs": [],
   "source": [
    "# Operator Overloading"
   ]
  },
  {
   "cell_type": "code",
   "execution_count": 16,
   "id": "moved-procurement",
   "metadata": {},
   "outputs": [],
   "source": [
    "# Repurposing operators that have an existing meaning is operator overloading"
   ]
  },
  {
   "cell_type": "code",
   "execution_count": 17,
   "id": "limiting-israel",
   "metadata": {},
   "outputs": [],
   "source": [
    "# __mul__ and __rmul__ define, how multipication operator behaves"
   ]
  },
  {
   "cell_type": "code",
   "execution_count": 18,
   "id": "dedicated-rebound",
   "metadata": {},
   "outputs": [],
   "source": [
    "def __mul__(self, factor):\n",
    "    return self.scale(factor)\n",
    "\n",
    "def __remul__(self, factor):\n",
    "    return self.scale(factor)"
   ]
  },
  {
   "cell_type": "code",
   "execution_count": null,
   "id": "humanitarian-parameter",
   "metadata": {},
   "outputs": [],
   "source": []
  },
  {
   "cell_type": "code",
   "execution_count": 19,
   "id": "otherwise-affair",
   "metadata": {},
   "outputs": [],
   "source": [
    "# Class Methods"
   ]
  },
  {
   "cell_type": "code",
   "execution_count": 20,
   "id": "cutting-object",
   "metadata": {},
   "outputs": [],
   "source": [
    "# function attached to a class itself, instead of an individual object"
   ]
  },
  {
   "cell_type": "code",
   "execution_count": 21,
   "id": "destroyed-yield",
   "metadata": {},
   "outputs": [],
   "source": [
    "# create an alternative constructor"
   ]
  },
  {
   "cell_type": "code",
   "execution_count": 22,
   "id": "processed-walker",
   "metadata": {},
   "outputs": [],
   "source": [
    "# first constructor represent class itself"
   ]
  },
  {
   "cell_type": "code",
   "execution_count": 24,
   "id": "artificial-snake",
   "metadata": {},
   "outputs": [],
   "source": [
    "class Rectangle():\n",
    "    @classmethod\n",
    "    def square(cls, side):\n",
    "        return Rectangle(side, side)"
   ]
  },
  {
   "cell_type": "code",
   "execution_count": null,
   "id": "blessed-citizen",
   "metadata": {},
   "outputs": [],
   "source": []
  },
  {
   "cell_type": "code",
   "execution_count": 25,
   "id": "invisible-reasoning",
   "metadata": {},
   "outputs": [],
   "source": [
    "# Ineritance and Abstract Class"
   ]
  },
  {
   "cell_type": "code",
   "execution_count": 26,
   "id": "married-beach",
   "metadata": {},
   "outputs": [],
   "source": [
    "# Simple inheritance"
   ]
  },
  {
   "cell_type": "code",
   "execution_count": 27,
   "id": "precious-officer",
   "metadata": {},
   "outputs": [],
   "source": [
    "class Square(Rectangle):\n",
    "    def __init__(self, s):\n",
    "        return super().__init__(s,s)\n",
    "    def __repr__(self):\n",
    "        return 'Squre (%r)' % self.width"
   ]
  },
  {
   "cell_type": "code",
   "execution_count": null,
   "id": "narrow-vietnamese",
   "metadata": {},
   "outputs": [],
   "source": []
  },
  {
   "cell_type": "code",
   "execution_count": 28,
   "id": "soviet-manual",
   "metadata": {},
   "outputs": [],
   "source": [
    "# define a abstract base class\n",
    "# should import abc package which stands for 'Abstract Base Class'"
   ]
  },
  {
   "cell_type": "code",
   "execution_count": 29,
   "id": "applicable-kruger",
   "metadata": {},
   "outputs": [],
   "source": [
    "from abc import ABC, abstractmethod"
   ]
  },
  {
   "cell_type": "code",
   "execution_count": 31,
   "id": "brave-anniversary",
   "metadata": {},
   "outputs": [],
   "source": [
    "class Shape(ABC):\n",
    "    @abstractmethod\n",
    "    def area(self):\n",
    "        pass\n",
    "    \n",
    "    @abstractmethod\n",
    "    def scale(self, factor):\n",
    "        pass\n",
    "    \n",
    "    def __eq__(self, other):\n",
    "        return self.__dict__ == other.__dict__\n",
    "    \n",
    "    def __mul__(self, factor):\n",
    "        return self.scale(factor)\n",
    "    \n",
    "    def __rmul__(self, factor):\n",
    "        return self.scale(factor)"
   ]
  },
  {
   "cell_type": "code",
   "execution_count": null,
   "id": "pointed-speed",
   "metadata": {},
   "outputs": [],
   "source": []
  },
  {
   "cell_type": "code",
   "execution_count": 52,
   "id": "finite-development",
   "metadata": {},
   "outputs": [],
   "source": [
    "class Rectangle(Shape):\n",
    "    def __init__(self, w, h):\n",
    "        self.width = w\n",
    "        self.height = h\n",
    "        \n",
    "    def area(self):\n",
    "        return self.width * self.height\n",
    "    \n",
    "    def scale(self, factor):\n",
    "        return Rectangle(self.width * factor, self.height * factor)\n",
    "    def __repr__(self):\n",
    "        return \"Rectangle of w: (%r), h: (%r)\" % (self.width,self.height)"
   ]
  },
  {
   "cell_type": "code",
   "execution_count": 53,
   "id": "recognized-afternoon",
   "metadata": {},
   "outputs": [
    {
     "data": {
      "text/plain": [
       "Rectangle of w: (2), h: (3)"
      ]
     },
     "execution_count": 53,
     "metadata": {},
     "output_type": "execute_result"
    }
   ],
   "source": [
    "Rectangle(2,3)"
   ]
  },
  {
   "cell_type": "code",
   "execution_count": null,
   "id": "strong-trouble",
   "metadata": {},
   "outputs": [],
   "source": []
  }
 ],
 "metadata": {
  "kernelspec": {
   "display_name": "Python 3",
   "language": "python",
   "name": "python3"
  },
  "language_info": {
   "codemirror_mode": {
    "name": "ipython",
    "version": 3
   },
   "file_extension": ".py",
   "mimetype": "text/x-python",
   "name": "python",
   "nbconvert_exporter": "python",
   "pygments_lexer": "ipython3",
   "version": "3.8.5"
  }
 },
 "nbformat": 4,
 "nbformat_minor": 5
}
